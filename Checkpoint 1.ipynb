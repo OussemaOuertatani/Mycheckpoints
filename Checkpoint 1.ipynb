{
 "cells": [
  {
   "cell_type": "code",
   "execution_count": 29,
   "metadata": {},
   "outputs": [
    {
     "name": "stdout",
     "output_type": "stream",
     "text": [
      "112\n",
      "119\n",
      "126\n",
      "133\n",
      "147\n",
      "154\n",
      "161\n",
      "168\n",
      "182\n",
      "189\n",
      "196\n"
     ]
    }
   ],
   "source": [
    "#Question number 1 \n",
    "for x in range(100, 200):\n",
    "        if (x%7==0 and (x%5)!=0):\n",
    "            print(x)\n",
    "#i tried to print with list() function in a sequence on a single line, but it doesnt work."
   ]
  },
  {
   "cell_type": "code",
   "execution_count": 30,
   "metadata": {},
   "outputs": [
    {
     "name": "stdout",
     "output_type": "stream",
     "text": [
      "le factoreil de 8 est 40320\n"
     ]
    }
   ],
   "source": [
    "# Question 2\n",
    "fact=8\n",
    "resultat=1\n",
    "for i in range(1,fact+1):\n",
    "    resultat=resultat*i\n",
    "print (\"le factoreil de 8 est\",resultat)"
   ]
  },
  {
   "cell_type": "code",
   "execution_count": 36,
   "metadata": {},
   "outputs": [
    {
     "name": "stdout",
     "output_type": "stream",
     "text": [
      "{1: 1, 2: 4, 3: 9, 4: 16, 5: 25, 6: 36, 7: 49, 8: 64}\n"
     ]
    }
   ],
   "source": [
    "# Question3\n",
    "i=8\n",
    "mydic={i:i*i for i in range(1,i+1)}\n",
    "print(mydic)\n"
   ]
  },
  {
   "cell_type": "code",
   "execution_count": 37,
   "metadata": {},
   "outputs": [],
   "source": [
    "#Question Number 4\n",
    "\n",
    "#Q = Square root of [(2 * c * d)/h\n",
    "h=30\n",
    "c=50\n",
    "# i Didnt Resolve it."
   ]
  },
  {
   "cell_type": "code",
   "execution_count": 38,
   "metadata": {},
   "outputs": [],
   "source": [
    "#Question number 5\n",
    "# i Didnt Resolve it."
   ]
  },
  {
   "cell_type": "code",
   "execution_count": 39,
   "metadata": {},
   "outputs": [],
   "source": [
    "#Question number 6\n",
    "# i Didnt Resolve it"
   ]
  },
  {
   "cell_type": "code",
   "execution_count": 41,
   "metadata": {},
   "outputs": [
    {
     "name": "stdout",
     "output_type": "stream",
     "text": [
      "[[0 1]\n",
      " [2 3]\n",
      " [4 5]]\n",
      "[[0, 1], [2, 3], [4, 5]]\n"
     ]
    }
   ],
   "source": [
    "#Question Number 7\n",
    "import numpy as np\n",
    "new_array=np.array([[0,1], [2,3], [4,5]])\n",
    "\n",
    "print(new_array)\n",
    "print(new_array.tolist())\n"
   ]
  },
  {
   "cell_type": "code",
   "execution_count": null,
   "metadata": {},
   "outputs": [],
   "source": [
    "#Question Number8\n",
    "# i Didnt Resolve it.\n"
   ]
  }
 ],
 "metadata": {
  "kernelspec": {
   "display_name": "Python 3",
   "language": "python",
   "name": "python3"
  },
  "language_info": {
   "codemirror_mode": {
    "name": "ipython",
    "version": 3
   },
   "file_extension": ".py",
   "mimetype": "text/x-python",
   "name": "python",
   "nbconvert_exporter": "python",
   "pygments_lexer": "ipython3",
   "version": "3.7.6"
  }
 },
 "nbformat": 4,
 "nbformat_minor": 4
}
